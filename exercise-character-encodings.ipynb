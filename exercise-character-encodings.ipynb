{
 "cells": [
  {
   "cell_type": "markdown",
   "id": "b01a285d",
   "metadata": {
    "papermill": {
     "duration": 0.004228,
     "end_time": "2025-07-14T12:07:40.535576",
     "exception": false,
     "start_time": "2025-07-14T12:07:40.531348",
     "status": "completed"
    },
    "tags": []
   },
   "source": [
    "**This notebook is an exercise in the [Data Cleaning](https://www.kaggle.com/learn/data-cleaning) course.  You can reference the tutorial at [this link](https://www.kaggle.com/alexisbcook/character-encodings).**\n",
    "\n",
    "---\n"
   ]
  },
  {
   "cell_type": "markdown",
   "id": "f2cb4535",
   "metadata": {
    "papermill": {
     "duration": 0.003171,
     "end_time": "2025-07-14T12:07:40.542361",
     "exception": false,
     "start_time": "2025-07-14T12:07:40.539190",
     "status": "completed"
    },
    "tags": []
   },
   "source": [
    "In this exercise, you'll apply what you learned in the **Character encodings** tutorial.\n",
    "\n",
    "# Setup\n",
    "\n",
    "The questions below will give you feedback on your work. Run the following cell to set up the feedback system."
   ]
  },
  {
   "cell_type": "code",
   "execution_count": 1,
   "id": "a3b87f13",
   "metadata": {
    "execution": {
     "iopub.execute_input": "2025-07-14T12:07:40.551410Z",
     "iopub.status.busy": "2025-07-14T12:07:40.550985Z",
     "iopub.status.idle": "2025-07-14T12:07:42.702622Z",
     "shell.execute_reply": "2025-07-14T12:07:42.701559Z"
    },
    "papermill": {
     "duration": 2.158082,
     "end_time": "2025-07-14T12:07:42.704558",
     "exception": false,
     "start_time": "2025-07-14T12:07:40.546476",
     "status": "completed"
    },
    "tags": []
   },
   "outputs": [
    {
     "name": "stdout",
     "output_type": "stream",
     "text": [
      "Setup Complete\n"
     ]
    }
   ],
   "source": [
    "from learntools.core import binder\n",
    "binder.bind(globals())\n",
    "from learntools.data_cleaning.ex4 import *\n",
    "print(\"Setup Complete\")"
   ]
  },
  {
   "cell_type": "markdown",
   "id": "bbbf9526",
   "metadata": {
    "papermill": {
     "duration": 0.003245,
     "end_time": "2025-07-14T12:07:42.711552",
     "exception": false,
     "start_time": "2025-07-14T12:07:42.708307",
     "status": "completed"
    },
    "tags": []
   },
   "source": [
    "# Get our environment set up\n",
    "\n",
    "The first thing we'll need to do is load in the libraries we'll be using."
   ]
  },
  {
   "cell_type": "code",
   "execution_count": 2,
   "id": "2437b5b5",
   "metadata": {
    "execution": {
     "iopub.execute_input": "2025-07-14T12:07:42.719545Z",
     "iopub.status.busy": "2025-07-14T12:07:42.719220Z",
     "iopub.status.idle": "2025-07-14T12:07:42.724017Z",
     "shell.execute_reply": "2025-07-14T12:07:42.723131Z"
    },
    "papermill": {
     "duration": 0.010879,
     "end_time": "2025-07-14T12:07:42.725744",
     "exception": false,
     "start_time": "2025-07-14T12:07:42.714865",
     "status": "completed"
    },
    "tags": []
   },
   "outputs": [],
   "source": [
    "# modules we'll use\n",
    "import pandas as pd\n",
    "import numpy as np\n",
    "\n",
    "# helpful character encoding module\n",
    "import charset_normalizer\n",
    "\n",
    "# set seed for reproducibility\n",
    "np.random.seed(0)"
   ]
  },
  {
   "cell_type": "markdown",
   "id": "4f355c3b",
   "metadata": {
    "papermill": {
     "duration": 0.003329,
     "end_time": "2025-07-14T12:07:42.733046",
     "exception": false,
     "start_time": "2025-07-14T12:07:42.729717",
     "status": "completed"
    },
    "tags": []
   },
   "source": [
    "# 1) What are encodings?\n",
    "\n",
    "You're working with a dataset composed of bytes.  Run the code cell below to print a sample entry."
   ]
  },
  {
   "cell_type": "code",
   "execution_count": 3,
   "id": "fa2dd7f4",
   "metadata": {
    "execution": {
     "iopub.execute_input": "2025-07-14T12:07:42.741776Z",
     "iopub.status.busy": "2025-07-14T12:07:42.741438Z",
     "iopub.status.idle": "2025-07-14T12:07:42.746638Z",
     "shell.execute_reply": "2025-07-14T12:07:42.745591Z"
    },
    "papermill": {
     "duration": 0.011473,
     "end_time": "2025-07-14T12:07:42.748025",
     "exception": false,
     "start_time": "2025-07-14T12:07:42.736552",
     "status": "completed"
    },
    "tags": []
   },
   "outputs": [
    {
     "name": "stdout",
     "output_type": "stream",
     "text": [
      "b'\\xa7A\\xa6n'\n",
      "data type: <class 'bytes'>\n"
     ]
    }
   ],
   "source": [
    "sample_entry = b'\\xa7A\\xa6n'\n",
    "print(sample_entry)\n",
    "print('data type:', type(sample_entry))"
   ]
  },
  {
   "cell_type": "markdown",
   "id": "174f7c34",
   "metadata": {
    "papermill": {
     "duration": 0.003227,
     "end_time": "2025-07-14T12:07:42.754753",
     "exception": false,
     "start_time": "2025-07-14T12:07:42.751526",
     "status": "completed"
    },
    "tags": []
   },
   "source": [
    "You notice that it doesn't use the standard UTF-8 encoding. \n",
    "\n",
    "Use the next code cell to create a variable `new_entry` that changes the encoding from `\"big5-tw\"` to `\"utf-8\"`.  `new_entry` should have the bytes datatype."
   ]
  },
  {
   "cell_type": "code",
   "execution_count": 4,
   "id": "387e9a0b",
   "metadata": {
    "execution": {
     "iopub.execute_input": "2025-07-14T12:07:42.762564Z",
     "iopub.status.busy": "2025-07-14T12:07:42.762281Z",
     "iopub.status.idle": "2025-07-14T12:07:42.770440Z",
     "shell.execute_reply": "2025-07-14T12:07:42.769553Z"
    },
    "papermill": {
     "duration": 0.013808,
     "end_time": "2025-07-14T12:07:42.771884",
     "exception": false,
     "start_time": "2025-07-14T12:07:42.758076",
     "status": "completed"
    },
    "tags": []
   },
   "outputs": [
    {
     "data": {
      "application/javascript": [
       "parent.postMessage({\"jupyterEvent\": \"custom.exercise_interaction\", \"data\": {\"outcomeType\": 1, \"valueTowardsCompletion\": 0.3333333333333333, \"interactionType\": 1, \"questionType\": 1, \"questionId\": \"1_EncodingsIntro\", \"learnToolsVersion\": \"0.3.5\", \"failureMessage\": \"\", \"exceptionClass\": \"\", \"trace\": \"\"}}, \"*\")"
      ],
      "text/plain": [
       "<IPython.core.display.Javascript object>"
      ]
     },
     "metadata": {},
     "output_type": "display_data"
    },
    {
     "data": {
      "text/markdown": [
       "<span style=\"color:#33cc33\">Correct</span>"
      ],
      "text/plain": [
       "Correct"
      ]
     },
     "metadata": {},
     "output_type": "display_data"
    }
   ],
   "source": [
    "new_entry = sample_entry.decode(\"big5-tw\")\n",
    "new_entry = new_entry.encode(\"utf-8\", errors=\"replace\")\n",
    "\n",
    "# Check your answer\n",
    "q1.check()"
   ]
  },
  {
   "cell_type": "code",
   "execution_count": 5,
   "id": "2d7d0405",
   "metadata": {
    "execution": {
     "iopub.execute_input": "2025-07-14T12:07:42.781937Z",
     "iopub.status.busy": "2025-07-14T12:07:42.781649Z",
     "iopub.status.idle": "2025-07-14T12:07:42.786108Z",
     "shell.execute_reply": "2025-07-14T12:07:42.785116Z"
    },
    "papermill": {
     "duration": 0.011854,
     "end_time": "2025-07-14T12:07:42.787583",
     "exception": false,
     "start_time": "2025-07-14T12:07:42.775729",
     "status": "completed"
    },
    "tags": []
   },
   "outputs": [],
   "source": [
    "# Lines below will give you a hint or solution code\n",
    "#q1.hint()\n",
    "#q1.solution()"
   ]
  },
  {
   "cell_type": "markdown",
   "id": "43d339c7",
   "metadata": {
    "papermill": {
     "duration": 0.003831,
     "end_time": "2025-07-14T12:07:42.795318",
     "exception": false,
     "start_time": "2025-07-14T12:07:42.791487",
     "status": "completed"
    },
    "tags": []
   },
   "source": [
    "# 2) Reading in files with encoding problems\n",
    "\n",
    "Use the code cell below to read in this file at path `\"../input/fatal-police-shootings-in-the-us/PoliceKillingsUS.csv\"`.  \n",
    "\n",
    "Figure out what the correct encoding should be and read in the file to a DataFrame `police_killings`."
   ]
  },
  {
   "cell_type": "code",
   "execution_count": 6,
   "id": "f629a961",
   "metadata": {
    "execution": {
     "iopub.execute_input": "2025-07-14T12:07:42.803990Z",
     "iopub.status.busy": "2025-07-14T12:07:42.803708Z",
     "iopub.status.idle": "2025-07-14T12:07:42.827866Z",
     "shell.execute_reply": "2025-07-14T12:07:42.826751Z"
    },
    "papermill": {
     "duration": 0.030283,
     "end_time": "2025-07-14T12:07:42.829391",
     "exception": false,
     "start_time": "2025-07-14T12:07:42.799108",
     "status": "completed"
    },
    "tags": []
   },
   "outputs": [
    {
     "data": {
      "application/javascript": [
       "parent.postMessage({\"jupyterEvent\": \"custom.exercise_interaction\", \"data\": {\"outcomeType\": 1, \"valueTowardsCompletion\": 0.3333333333333333, \"interactionType\": 1, \"questionType\": 1, \"questionId\": \"2_ReadIn\", \"learnToolsVersion\": \"0.3.5\", \"failureMessage\": \"\", \"exceptionClass\": \"\", \"trace\": \"\"}}, \"*\")"
      ],
      "text/plain": [
       "<IPython.core.display.Javascript object>"
      ]
     },
     "metadata": {},
     "output_type": "display_data"
    },
    {
     "data": {
      "text/markdown": [
       "<span style=\"color:#33cc33\">Correct</span>"
      ],
      "text/plain": [
       "Correct"
      ]
     },
     "metadata": {},
     "output_type": "display_data"
    }
   ],
   "source": [
    "# TODO: Load in the DataFrame correctly.\n",
    "police_killings = pd.read_csv(\"../input/fatal-police-shootings-in-the-us/PoliceKillingsUS.csv\", encoding='windows-1250')\n",
    "\n",
    "# Check your answer\n",
    "q2.check()"
   ]
  },
  {
   "cell_type": "markdown",
   "id": "89d4271c",
   "metadata": {
    "papermill": {
     "duration": 0.003552,
     "end_time": "2025-07-14T12:07:42.837012",
     "exception": false,
     "start_time": "2025-07-14T12:07:42.833460",
     "status": "completed"
    },
    "tags": []
   },
   "source": [
    "Feel free to use any additional code cells for supplemental work.  To get credit for finishing this question, you'll need to run `q2.check()` and get a result of **Correct**."
   ]
  },
  {
   "cell_type": "code",
   "execution_count": 7,
   "id": "f878d32a",
   "metadata": {
    "execution": {
     "iopub.execute_input": "2025-07-14T12:07:42.845756Z",
     "iopub.status.busy": "2025-07-14T12:07:42.845479Z",
     "iopub.status.idle": "2025-07-14T12:07:43.523443Z",
     "shell.execute_reply": "2025-07-14T12:07:43.522380Z"
    },
    "papermill": {
     "duration": 0.684276,
     "end_time": "2025-07-14T12:07:43.524975",
     "exception": false,
     "start_time": "2025-07-14T12:07:42.840699",
     "status": "completed"
    },
    "tags": []
   },
   "outputs": [
    {
     "name": "stdout",
     "output_type": "stream",
     "text": [
      "{'encoding': 'windows-1250', 'language': 'English', 'confidence': 1.0}\n"
     ]
    }
   ],
   "source": [
    "# (Optional) Use this code cell for any additional work.\n",
    "with open(\"../input/fatal-police-shootings-in-the-us/PoliceKillingsUS.csv\", 'rb') as rawdata:\n",
    "    result = charset_normalizer.detect(rawdata.read(100000))\n",
    "print(result)"
   ]
  },
  {
   "cell_type": "code",
   "execution_count": 8,
   "id": "c1f5d24c",
   "metadata": {
    "execution": {
     "iopub.execute_input": "2025-07-14T12:07:43.534272Z",
     "iopub.status.busy": "2025-07-14T12:07:43.533932Z",
     "iopub.status.idle": "2025-07-14T12:07:43.538242Z",
     "shell.execute_reply": "2025-07-14T12:07:43.537302Z"
    },
    "papermill": {
     "duration": 0.010712,
     "end_time": "2025-07-14T12:07:43.539928",
     "exception": false,
     "start_time": "2025-07-14T12:07:43.529216",
     "status": "completed"
    },
    "tags": []
   },
   "outputs": [],
   "source": [
    "# Lines below will give you a hint or solution code\n",
    "#q2.hint()\n",
    "#q2.solution()"
   ]
  },
  {
   "cell_type": "markdown",
   "id": "327ff973",
   "metadata": {
    "papermill": {
     "duration": 0.003724,
     "end_time": "2025-07-14T12:07:43.547877",
     "exception": false,
     "start_time": "2025-07-14T12:07:43.544153",
     "status": "completed"
    },
    "tags": []
   },
   "source": [
    "# 3) Saving your files with UTF-8 encoding\n",
    "\n",
    "Save a version of the police killings dataset to CSV with UTF-8 encoding.  Your answer will be marked correct after saving this file.  \n",
    "\n",
    "Note: When using the `to_csv()` method, supply only the name of the file (e.g., `\"my_file.csv\"`).  This saves the file at the filepath `\"/kaggle/working/my_file.csv\"`."
   ]
  },
  {
   "cell_type": "code",
   "execution_count": 9,
   "id": "21dd1741",
   "metadata": {
    "execution": {
     "iopub.execute_input": "2025-07-14T12:07:43.557211Z",
     "iopub.status.busy": "2025-07-14T12:07:43.556891Z",
     "iopub.status.idle": "2025-07-14T12:07:43.597374Z",
     "shell.execute_reply": "2025-07-14T12:07:43.596515Z"
    },
    "papermill": {
     "duration": 0.046985,
     "end_time": "2025-07-14T12:07:43.598761",
     "exception": false,
     "start_time": "2025-07-14T12:07:43.551776",
     "status": "completed"
    },
    "tags": []
   },
   "outputs": [
    {
     "data": {
      "application/javascript": [
       "parent.postMessage({\"jupyterEvent\": \"custom.exercise_interaction\", \"data\": {\"outcomeType\": 1, \"valueTowardsCompletion\": 0.3333333333333333, \"interactionType\": 1, \"questionType\": 2, \"questionId\": \"3_SaveCSV\", \"learnToolsVersion\": \"0.3.5\", \"failureMessage\": \"\", \"exceptionClass\": \"\", \"trace\": \"\"}}, \"*\")"
      ],
      "text/plain": [
       "<IPython.core.display.Javascript object>"
      ]
     },
     "metadata": {},
     "output_type": "display_data"
    },
    {
     "data": {
      "text/markdown": [
       "<span style=\"color:#33cc33\">Correct</span>"
      ],
      "text/plain": [
       "Correct"
      ]
     },
     "metadata": {},
     "output_type": "display_data"
    }
   ],
   "source": [
    "# TODO: Save the police killings dataset to CSV\n",
    "police_killings.to_csv(\"/kaggle/working/my_file.csv\")\n",
    "\n",
    "# Check your answer\n",
    "q3.check()"
   ]
  },
  {
   "cell_type": "code",
   "execution_count": 10,
   "id": "5f901a5c",
   "metadata": {
    "execution": {
     "iopub.execute_input": "2025-07-14T12:07:43.608318Z",
     "iopub.status.busy": "2025-07-14T12:07:43.607916Z",
     "iopub.status.idle": "2025-07-14T12:07:43.613002Z",
     "shell.execute_reply": "2025-07-14T12:07:43.611632Z"
    },
    "papermill": {
     "duration": 0.011741,
     "end_time": "2025-07-14T12:07:43.614698",
     "exception": false,
     "start_time": "2025-07-14T12:07:43.602957",
     "status": "completed"
    },
    "tags": []
   },
   "outputs": [],
   "source": [
    "# Lines below will give you a hint or solution code\n",
    "#q3.hint()\n",
    "#q3.solution()"
   ]
  },
  {
   "cell_type": "markdown",
   "id": "55b002e0",
   "metadata": {
    "papermill": {
     "duration": 0.004408,
     "end_time": "2025-07-14T12:07:43.623259",
     "exception": false,
     "start_time": "2025-07-14T12:07:43.618851",
     "status": "completed"
    },
    "tags": []
   },
   "source": [
    "# (Optional) More practice\n",
    "\n",
    "Check out [this dataset of files in different character encodings](https://www.kaggle.com/rtatman/character-encoding-examples). Can you read in all the files with their original encodings and them save them out as UTF-8 files?\n",
    "\n",
    "If you have a file that's in UTF-8 but has just a couple of weird-looking characters in it, you can try out the [ftfy module](https://ftfy.readthedocs.io/en/latest/#) and see if it helps. \n",
    "\n",
    "# Keep going\n",
    "\n",
    "In the final lesson, learn how to [**clean up inconsistent text entries**](https://www.kaggle.com/alexisbcook/inconsistent-data-entry) in your dataset."
   ]
  },
  {
   "cell_type": "markdown",
   "id": "c1a40913",
   "metadata": {
    "papermill": {
     "duration": 0.004136,
     "end_time": "2025-07-14T12:07:43.631820",
     "exception": false,
     "start_time": "2025-07-14T12:07:43.627684",
     "status": "completed"
    },
    "tags": []
   },
   "source": [
    "---\n",
    "\n",
    "\n",
    "\n",
    "\n",
    "*Have questions or comments? Visit the [course discussion forum](https://www.kaggle.com/learn/data-cleaning/discussion) to chat with other learners.*"
   ]
  }
 ],
 "metadata": {
  "kaggle": {
   "accelerator": "none",
   "dataSources": [
    {
     "datasetId": 2647,
     "sourceId": 4395,
     "sourceType": "datasetVersion"
    }
   ],
   "isGpuEnabled": false,
   "isInternetEnabled": false,
   "language": "python",
   "sourceType": "notebook"
  },
  "kernelspec": {
   "display_name": "Python 3",
   "language": "python",
   "name": "python3"
  },
  "language_info": {
   "codemirror_mode": {
    "name": "ipython",
    "version": 3
   },
   "file_extension": ".py",
   "mimetype": "text/x-python",
   "name": "python",
   "nbconvert_exporter": "python",
   "pygments_lexer": "ipython3",
   "version": "3.11.13"
  },
  "papermill": {
   "default_parameters": {},
   "duration": 8.864207,
   "end_time": "2025-07-14T12:07:44.257034",
   "environment_variables": {},
   "exception": null,
   "input_path": "__notebook__.ipynb",
   "output_path": "__notebook__.ipynb",
   "parameters": {},
   "start_time": "2025-07-14T12:07:35.392827",
   "version": "2.6.0"
  }
 },
 "nbformat": 4,
 "nbformat_minor": 5
}
